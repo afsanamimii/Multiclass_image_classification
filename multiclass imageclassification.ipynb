{
 "cells": [
  {
   "cell_type": "code",
   "execution_count": 1,
   "metadata": {},
   "outputs": [],
   "source": [
    "import tensorflow as tf\n",
    "import numpy as np"
   ]
  },
  {
   "cell_type": "code",
   "execution_count": 2,
   "metadata": {},
   "outputs": [],
   "source": [
    "base_dir=r\"C:\\Users\\Asus\\flower\""
   ]
  },
  {
   "cell_type": "code",
   "execution_count": 17,
   "metadata": {},
   "outputs": [
    {
     "name": "stdout",
     "output_type": "stream",
     "text": [
      "Found 431 images belonging to 4 classes.\n",
      "Found 46 images belonging to 4 classes.\n"
     ]
    }
   ],
   "source": [
    "IMAGE_SIZE=224\n",
    "BATCH_SIZE=64\n",
    "\n",
    "#pre=processing\n",
    "train_datagen=tf.keras.preprocessing.image.ImageDataGenerator(\n",
    "    rescale=1./255,\n",
    "    shear_range=0.2,\n",
    "    zoom_range=0.2,\n",
    "    horizontal_flip=True,\n",
    "    validation_split=0.1\n",
    "    )\n",
    "\n",
    "test_datagen=tf.keras.preprocessing.image.ImageDataGenerator(\n",
    "     rescale=1./255,\n",
    "     validation_split=0.1\n",
    ")\n",
    "\n",
    "train_datagen=train_datagen.flow_from_directory(\n",
    "    base_dir,\n",
    "    target_size=(IMAGE_SIZE,IMAGE_SIZE),\n",
    "    batch_size=BATCH_SIZE,\n",
    "    subset='training'\n",
    ")\n",
    "\n",
    "test_datagen=test_datagen.flow_from_directory(\n",
    "    base_dir,\n",
    "    target_size=(IMAGE_SIZE,IMAGE_SIZE),\n",
    "    batch_size=BATCH_SIZE,\n",
    "    subset='validation'\n",
    ")\n",
    "\n",
    "\n"
   ]
  },
  {
   "cell_type": "code",
   "execution_count": 24,
   "metadata": {},
   "outputs": [],
   "source": [
    "cnn=tf.keras.Sequential()\n",
    "cnn.add(tf.keras.layers.Conv2D(filters=64,padding='same',strides=2,kernel_size=3,activation='relu',input_shape=(224,224,3)))\n",
    "cnn.add(tf.keras.layers.MaxPool2D(pool_size=2,strides=2))\n",
    "\n",
    "cnn.add(tf.keras.layers.Conv2D(filters=32,padding='same',strides=2,kernel_size=3,activation='relu'))\n",
    "cnn.add(tf.keras.layers.MaxPool2D(pool_size=2,strides=2))\n",
    "\n",
    "cnn.add(tf.keras.layers.Conv2D(filters=32,padding='same',strides=2,kernel_size=3,activation='relu'))\n",
    "cnn.add(tf.keras.layers.MaxPool2D(pool_size=2))\n",
    "\n",
    "cnn.add(tf.keras.layers.Flatten())\n",
    "cnn.add(tf.keras.layers.Dense(4,activation='softmax'))\n"
   ]
  },
  {
   "cell_type": "code",
   "execution_count": 25,
   "metadata": {},
   "outputs": [],
   "source": [
    "cnn.compile(optimizer=tf.keras.optimizers.Adam(),loss='categorical_crossentropy',metrics=['accuracy'])"
   ]
  },
  {
   "cell_type": "code",
   "execution_count": 26,
   "metadata": {},
   "outputs": [
    {
     "name": "stdout",
     "output_type": "stream",
     "text": [
      "Epoch 1/20\n",
      "7/7 [==============================] - 11s 1s/step - loss: 1.3794 - accuracy: 0.2651 - val_loss: 1.3118 - val_accuracy: 0.3478\n",
      "Epoch 2/20\n",
      "7/7 [==============================] - 10s 1s/step - loss: 1.3009 - accuracy: 0.4346 - val_loss: 1.2331 - val_accuracy: 0.5000\n",
      "Epoch 3/20\n",
      "7/7 [==============================] - 9s 1s/step - loss: 1.1951 - accuracy: 0.5116 - val_loss: 1.1588 - val_accuracy: 0.5435\n",
      "Epoch 4/20\n",
      "7/7 [==============================] - 9s 1s/step - loss: 1.1460 - accuracy: 0.5605 - val_loss: 1.0668 - val_accuracy: 0.5435\n",
      "Epoch 5/20\n",
      "7/7 [==============================] - 9s 1s/step - loss: 1.0143 - accuracy: 0.6052 - val_loss: 0.9973 - val_accuracy: 0.5652\n",
      "Epoch 6/20\n",
      "7/7 [==============================] - 9s 1s/step - loss: 0.9333 - accuracy: 0.6118 - val_loss: 0.9125 - val_accuracy: 0.6304\n",
      "Epoch 7/20\n",
      "7/7 [==============================] - 9s 1s/step - loss: 0.8894 - accuracy: 0.6447 - val_loss: 0.8881 - val_accuracy: 0.6087\n",
      "Epoch 8/20\n",
      "7/7 [==============================] - 9s 1s/step - loss: 0.8674 - accuracy: 0.6572 - val_loss: 0.8956 - val_accuracy: 0.5870\n",
      "Epoch 9/20\n",
      "7/7 [==============================] - 9s 1s/step - loss: 0.8417 - accuracy: 0.6544 - val_loss: 0.8512 - val_accuracy: 0.5652\n",
      "Epoch 10/20\n",
      "7/7 [==============================] - 9s 1s/step - loss: 0.8416 - accuracy: 0.6812 - val_loss: 0.8376 - val_accuracy: 0.6522\n",
      "Epoch 11/20\n",
      "7/7 [==============================] - 9s 1s/step - loss: 0.7969 - accuracy: 0.6783 - val_loss: 0.7975 - val_accuracy: 0.6522\n",
      "Epoch 12/20\n",
      "7/7 [==============================] - 10s 1s/step - loss: 0.7958 - accuracy: 0.6829 - val_loss: 0.7957 - val_accuracy: 0.6087\n",
      "Epoch 13/20\n",
      "7/7 [==============================] - 9s 1s/step - loss: 0.7956 - accuracy: 0.6736 - val_loss: 0.8205 - val_accuracy: 0.5652\n",
      "Epoch 14/20\n",
      "7/7 [==============================] - 9s 1s/step - loss: 0.7630 - accuracy: 0.7203 - val_loss: 0.7816 - val_accuracy: 0.6304\n",
      "Epoch 15/20\n",
      "7/7 [==============================] - 9s 1s/step - loss: 0.7911 - accuracy: 0.6716 - val_loss: 0.9267 - val_accuracy: 0.5000\n",
      "Epoch 16/20\n",
      "7/7 [==============================] - 9s 1s/step - loss: 0.8356 - accuracy: 0.6589 - val_loss: 0.7974 - val_accuracy: 0.6304\n",
      "Epoch 17/20\n",
      "7/7 [==============================] - 9s 1s/step - loss: 0.7675 - accuracy: 0.6848 - val_loss: 0.7210 - val_accuracy: 0.7174\n",
      "Epoch 18/20\n",
      "7/7 [==============================] - 9s 1s/step - loss: 0.7513 - accuracy: 0.6847 - val_loss: 0.7319 - val_accuracy: 0.6957\n",
      "Epoch 19/20\n",
      "7/7 [==============================] - 10s 1s/step - loss: 0.7115 - accuracy: 0.7075 - val_loss: 0.7439 - val_accuracy: 0.6739\n",
      "Epoch 20/20\n",
      "7/7 [==============================] - 10s 1s/step - loss: 0.7318 - accuracy: 0.6883 - val_loss: 0.7286 - val_accuracy: 0.7174\n"
     ]
    },
    {
     "data": {
      "text/plain": [
       "<tensorflow.python.keras.callbacks.History at 0x2ec975c8648>"
      ]
     },
     "execution_count": 26,
     "metadata": {},
     "output_type": "execute_result"
    }
   ],
   "source": [
    "\n",
    "cnn.fit(train_datagen,epochs=20,validation_data=test_datagen)"
   ]
  },
  {
   "cell_type": "code",
   "execution_count": null,
   "metadata": {},
   "outputs": [],
   "source": []
  },
  {
   "cell_type": "code",
   "execution_count": null,
   "metadata": {},
   "outputs": [],
   "source": []
  }
 ],
 "metadata": {
  "kernelspec": {
   "display_name": "Python 3",
   "language": "python",
   "name": "python3"
  },
  "language_info": {
   "codemirror_mode": {
    "name": "ipython",
    "version": 3
   },
   "file_extension": ".py",
   "mimetype": "text/x-python",
   "name": "python",
   "nbconvert_exporter": "python",
   "pygments_lexer": "ipython3",
   "version": "3.7.9"
  }
 },
 "nbformat": 4,
 "nbformat_minor": 4
}
